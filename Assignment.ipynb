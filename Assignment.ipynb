{
 "cells": [
  {
   "cell_type": "markdown",
   "id": "7d218535-d9f6-461e-b981-c07f5319210c",
   "metadata": {},
   "source": [
    "## Bank Account Manager"
   ]
  },
  {
   "cell_type": "code",
   "execution_count": 3,
   "id": "522c40cc-ac7f-4289-8324-b761f246c5ac",
   "metadata": {},
   "outputs": [
    {
     "name": "stdin",
     "output_type": "stream",
     "text": [
      "\n",
      "Select your service\n",
      "1. Open Savings Account\n",
      "2. Deposit money\n",
      "3. Withdraw money\n",
      "4. Balance Enquiry\n",
      "5. Exit\n",
      " 1\n",
      "Enter your adhar number 789321654\n",
      "Enter your name SRUTHI\n",
      "Enter the initial amount to deposit, Minimum balance should be 2000 :  2000\n"
     ]
    },
    {
     "name": "stdout",
     "output_type": "stream",
     "text": [
      "Account created successfully! Your account number is 78SR \n"
     ]
    },
    {
     "name": "stdin",
     "output_type": "stream",
     "text": [
      "\n",
      "Select your service\n",
      "1. Open Savings Account\n",
      "2. Deposit money\n",
      "3. Withdraw money\n",
      "4. Balance Enquiry\n",
      "5. Exit\n",
      " 2\n",
      "Enter your account number 78SR\n",
      "Enter the amount to deposit 500\n"
     ]
    },
    {
     "name": "stdout",
     "output_type": "stream",
     "text": [
      "Deposited AED 500.0 Your current balance is AED 2500.0!\n"
     ]
    },
    {
     "name": "stdin",
     "output_type": "stream",
     "text": [
      "\n",
      "Select your service\n",
      "1. Open Savings Account\n",
      "2. Deposit money\n",
      "3. Withdraw money\n",
      "4. Balance Enquiry\n",
      "5. Exit\n",
      " 3\n",
      "Enter your account number 45CV\n"
     ]
    },
    {
     "name": "stdout",
     "output_type": "stream",
     "text": [
      "Account does not exist\n"
     ]
    },
    {
     "name": "stdin",
     "output_type": "stream",
     "text": [
      "\n",
      "Select your service\n",
      "1. Open Savings Account\n",
      "2. Deposit money\n",
      "3. Withdraw money\n",
      "4. Balance Enquiry\n",
      "5. Exit\n",
      " 3\n",
      "Enter your account number 78SR\n",
      "Enter the amount to withdraw 3000\n"
     ]
    },
    {
     "name": "stdout",
     "output_type": "stream",
     "text": [
      "Insufficient balance in your account\n"
     ]
    },
    {
     "name": "stdin",
     "output_type": "stream",
     "text": [
      "\n",
      "Select your service\n",
      "1. Open Savings Account\n",
      "2. Deposit money\n",
      "3. Withdraw money\n",
      "4. Balance Enquiry\n",
      "5. Exit\n",
      " 3\n",
      "Enter your account number 78SR\n",
      "Enter the amount to withdraw 1000\n"
     ]
    },
    {
     "name": "stdout",
     "output_type": "stream",
     "text": [
      "Your account should keep minimum balance of AED 2000\n"
     ]
    },
    {
     "name": "stdin",
     "output_type": "stream",
     "text": [
      "\n",
      "Select your service\n",
      "1. Open Savings Account\n",
      "2. Deposit money\n",
      "3. Withdraw money\n",
      "4. Balance Enquiry\n",
      "5. Exit\n",
      " 3\n",
      "Enter your account number 78SR\n",
      "Enter the amount to withdraw 250\n"
     ]
    },
    {
     "name": "stdout",
     "output_type": "stream",
     "text": [
      "You have withdrawed AED 250.0 Available balance is 2250.0 \n"
     ]
    },
    {
     "name": "stdin",
     "output_type": "stream",
     "text": [
      "\n",
      "Select your service\n",
      "1. Open Savings Account\n",
      "2. Deposit money\n",
      "3. Withdraw money\n",
      "4. Balance Enquiry\n",
      "5. Exit\n",
      " 4\n",
      "Enter your account number 78SR\n"
     ]
    },
    {
     "name": "stdout",
     "output_type": "stream",
     "text": [
      "Account balance is AED 2250.0 \n"
     ]
    },
    {
     "name": "stdin",
     "output_type": "stream",
     "text": [
      "\n",
      "Select your service\n",
      "1. Open Savings Account\n",
      "2. Deposit money\n",
      "3. Withdraw money\n",
      "4. Balance Enquiry\n",
      "5. Exit\n",
      " 10\n"
     ]
    },
    {
     "name": "stdout",
     "output_type": "stream",
     "text": [
      "Invalid Choice\n"
     ]
    },
    {
     "name": "stdin",
     "output_type": "stream",
     "text": [
      "\n",
      "Select your service\n",
      "1. Open Savings Account\n",
      "2. Deposit money\n",
      "3. Withdraw money\n",
      "4. Balance Enquiry\n",
      "5. Exit\n",
      " 5\n"
     ]
    },
    {
     "name": "stdout",
     "output_type": "stream",
     "text": [
      "Thank you for choosing our service!!!\n"
     ]
    }
   ],
   "source": [
    "minimum_balance = 2000\n",
    "\n",
    "def open_s_account():\n",
    "    account = {}\n",
    "    adhar_number = input(\"Enter your adhar number\")  \n",
    "    name = input(\"Enter your name\")\n",
    "    i_deposit = float(input(f\"Enter the initial amount to deposit, Minimum balance should be {minimum_balance} : \"))\n",
    "    account_number = adhar_number[:2]+name[:2]\n",
    "    customer_data = {\n",
    "                    'c_name' :  name,\n",
    "                    'a_number' : adhar_number,\n",
    "                     'balance' : i_deposit }\n",
    "    account[account_number] = customer_data\n",
    "    return account, account_number\n",
    "\n",
    "def deposit(accounts):\n",
    "    account_number = input(\"Enter your account number\") \n",
    "    if account_number in accounts:\n",
    "        amount = float(input(\"Enter the amount to deposit\"))\n",
    "        accounts[account_number]['balance']+=amount\n",
    "        print(f\"Deposited AED {amount} Your current balance is AED {accounts[account_number]['balance']}!\")\n",
    "    else:\n",
    "        print(\"Account does not exist\")\n",
    "\n",
    "\n",
    "def withdrawal(accounts):\n",
    "    \n",
    "    account_number = input(\"Enter your account number\")\n",
    "    if account_number not in accounts:\n",
    "        print(\"Account does not exist\")\n",
    "    else:\n",
    "        amount = float(input(\"Enter the amount to withdraw\"))\n",
    "        if accounts[account_number]['balance']<amount:\n",
    "            print(\"Insufficient balance in your account\")\n",
    "        elif (accounts[account_number]['balance'] - amount) < minimum_balance:\n",
    "            print(f\"Your account should keep minimum balance of AED {minimum_balance}\")\n",
    "        else:\n",
    "            accounts[account_number]['balance'] -= amount\n",
    "            print(f\"You have withdrawed AED {amount} Available balance is {accounts[account_number]['balance']} \")\n",
    "\n",
    "def balance_enquiry(accounts):\n",
    "    account_number = input(\"Enter your account number\") \n",
    "    if account_number in accounts:\n",
    "        balance = accounts[account_number]['balance']\n",
    "        print(f\"Account balance is AED {balance} \")\n",
    "    else:\n",
    "        print(\"Account does not exist\")\n",
    "\n",
    "\n",
    "def main():\n",
    "    accounts ={}\n",
    "    while True:\n",
    "        choice = input(\"\\nSelect your service\\n\"\n",
    "                      \"1. Open Savings Account\\n\"\n",
    "                      \"2. Deposit money\\n\"\n",
    "                      \"3. Withdraw money\\n\"\n",
    "                      \"4. Balance Enquiry\\n\"\n",
    "                      \"5. Exit\\n\")\n",
    "\n",
    "        if choice == '1':\n",
    "            new_account, account_number = open_s_account()\n",
    "            accounts.update(new_account)\n",
    "            print(f\"Account created successfully! Your account number is {account_number} \")\n",
    "        elif choice == '2':\n",
    "            deposit(accounts)\n",
    "        elif choice == '3':\n",
    "            withdrawal(accounts)\n",
    "        elif choice == '4':\n",
    "            balance_enquiry(accounts)\n",
    "        elif choice == '5':\n",
    "            print (\"Thank you for choosing our service!!!\")\n",
    "            break\n",
    "        else:\n",
    "            print(\"Invalid Choice\")\n",
    "            \n",
    "            \n",
    "if __name__ == '__main__':\n",
    "    main()"
   ]
  },
  {
   "cell_type": "markdown",
   "id": "2e6a1e8b-8059-4fe7-bd23-420c0905dd33",
   "metadata": {},
   "source": [
    "## Weather Data Analyzer"
   ]
  },
  {
   "cell_type": "code",
   "execution_count": 5,
   "id": "78e26f1f-73fe-4822-be88-de34044f47a9",
   "metadata": {},
   "outputs": [
    {
     "name": "stdin",
     "output_type": "stream",
     "text": [
      "\n",
      "Select your option\n",
      "1. Input weather data\n",
      "2. Display weather condition\n",
      "3. Calculate average temperature and humidity\n",
      "4. Exit\n",
      " 1\n",
      "Enter Temperature (°C):  33\n",
      "Enter cloud cover (%):  22\n",
      "Enter wind speed (km/h):  19\n",
      "Enter humidity (%):  70\n",
      "\n",
      "Select your option\n",
      "1. Input weather data\n",
      "2. Display weather condition\n",
      "3. Calculate average temperature and humidity\n",
      "4. Exit\n",
      " 1\n",
      "Enter Temperature (°C):  20\n",
      "Enter cloud cover (%):  80\n",
      "Enter wind speed (km/h):  10\n",
      "Enter humidity (%):  70\n",
      "\n",
      "Select your option\n",
      "1. Input weather data\n",
      "2. Display weather condition\n",
      "3. Calculate average temperature and humidity\n",
      "4. Exit\n",
      " 2\n"
     ]
    },
    {
     "name": "stdout",
     "output_type": "stream",
     "text": [
      "Current wether condition is: Rainy Day\n"
     ]
    },
    {
     "name": "stdin",
     "output_type": "stream",
     "text": [
      "\n",
      "Select your option\n",
      "1. Input weather data\n",
      "2. Display weather condition\n",
      "3. Calculate average temperature and humidity\n",
      "4. Exit\n",
      " 3\n"
     ]
    },
    {
     "name": "stdout",
     "output_type": "stream",
     "text": [
      "Average Temperature: 26.5°C\n",
      "Average Humidity: 70.0%\n"
     ]
    },
    {
     "name": "stdin",
     "output_type": "stream",
     "text": [
      "\n",
      "Select your option\n",
      "1. Input weather data\n",
      "2. Display weather condition\n",
      "3. Calculate average temperature and humidity\n",
      "4. Exit\n",
      " 4\n"
     ]
    },
    {
     "name": "stdout",
     "output_type": "stream",
     "text": [
      "Thank you ! \n"
     ]
    }
   ],
   "source": [
    "weather_data_thresholds = { 'Sunny Day' : { 'Temperature' : 35,\n",
    "                                            'Cloud Cover' : 20,\n",
    "                                            'Wind speed'  : 10,\n",
    "                                            'Humidity'    : 60 },\n",
    "                            'Rainy Day' : { 'Temperature' : 24,\n",
    "                                            'Cloud Cover' : 100,\n",
    "                                            'Wind speed'  : 20,\n",
    "                                            'Humidity'    : 80 },\n",
    "                            'Cloudy Day' : { 'Temperature' : 24,\n",
    "                                            'Cloud Cover' : 100,\n",
    "                                            'Wind speed'  : 15,\n",
    "                                            'Humidity'    : 80 },\n",
    "                            'Foggy Day' : { 'Temperature' : 16,\n",
    "                                            'Cloud Cover' : 1,\n",
    "                                            'Wind speed'  : 5,\n",
    "                                            'Humidity'    : 100 } }\n",
    "\n",
    "def input_weather_data():\n",
    "    Temperature = float(input(\"Enter Temperature (°C): \"))\n",
    "    Cloud_Cover = float(input(\"Enter cloud cover (%): \"))\n",
    "    Wind_speed = float(input(\"Enter wind speed (km/h): \"))\n",
    "    Humidity = float(input(\"Enter humidity (%): \"))\n",
    "    return [Temperature, Cloud_Cover, Wind_speed, Humidity]\n",
    "\n",
    "def current_weather(weather_data):\n",
    "    day_type = \"\"\n",
    "    for day,threshold in weather_data_thresholds.items():\n",
    "        if (weather_data['Temperature'][-1]<=threshold['Temperature'] and \n",
    "            weather_data['Cloud_Cover'][-1]<=threshold['Cloud Cover'] and\n",
    "            weather_data['Wind_speed'][-1]<=threshold['Wind speed'] and\n",
    "            weather_data['Humidity'][-1]<=threshold['Humidity']):\n",
    "            day_type = day\n",
    "            break\n",
    "        else:\n",
    "           day_type = \"Unknown weather condition\"\n",
    "    print(f\"Current wether condition is: {day_type}\")\n",
    "\n",
    "def average_data(temperature, humidity):\n",
    "    avg_temperature = sum(temperature)/len(temperature)\n",
    "    avg_humidity = sum(humidity)/len(humidity)\n",
    "    print(f\"Average Temperature: {avg_temperature}°C\")\n",
    "    print(f\"Average Humidity: {avg_humidity}%\")\n",
    "        \n",
    "\n",
    "def main():\n",
    "    weather_data = {'Temperature' : [],\n",
    "                    'Cloud_Cover' : [],\n",
    "                    'Wind_speed' : [], \n",
    "                    'Humidity' : [] }\n",
    "    while True:\n",
    "        choice = input(\"\\nSelect your option\\n\"\n",
    "                      \"1. Input weather data\\n\"\n",
    "                      \"2. Display weather condition\\n\"\n",
    "                      \"3. Calculate average temperature and humidity\\n\"\n",
    "                      \"4. Exit\\n\")\n",
    "        \n",
    "        if choice == '1':\n",
    "            data_list = input_weather_data()\n",
    "            for weather, datapoints in zip (data_list,weather_data):\n",
    "                weather_data[datapoints].append(weather)\n",
    "            \n",
    "        elif choice == '2':\n",
    "            if weather_data:\n",
    "                current_weather(weather_data)\n",
    "            else:\n",
    "                print(\"No data available in database\")\n",
    "        elif choice == '3':\n",
    "            average_data(weather_data['Temperature'],weather_data['Humidity'])\n",
    "        elif choice == '4':\n",
    "            print (\"Thank you ! \")\n",
    "            break\n",
    "        else:\n",
    "            print(\"Invalid choice\")\n",
    "            \n",
    "if __name__ == '__main__':\n",
    "    main()\n",
    "    "
   ]
  },
  {
   "cell_type": "code",
   "execution_count": null,
   "id": "43206a01-5e1e-47ca-95cd-e6f3e43f3fd4",
   "metadata": {},
   "outputs": [],
   "source": []
  },
  {
   "cell_type": "code",
   "execution_count": null,
   "id": "33509a5c-7ac6-48ec-ae82-a2b257b9dab0",
   "metadata": {},
   "outputs": [],
   "source": []
  }
 ],
 "metadata": {
  "kernelspec": {
   "display_name": "Python 3 (ipykernel)",
   "language": "python",
   "name": "python3"
  },
  "language_info": {
   "codemirror_mode": {
    "name": "ipython",
    "version": 3
   },
   "file_extension": ".py",
   "mimetype": "text/x-python",
   "name": "python",
   "nbconvert_exporter": "python",
   "pygments_lexer": "ipython3",
   "version": "3.11.5"
  }
 },
 "nbformat": 4,
 "nbformat_minor": 5
}
